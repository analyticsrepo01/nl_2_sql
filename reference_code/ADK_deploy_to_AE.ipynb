{
 "cells": [
  {
   "cell_type": "markdown",
   "id": "iTs5ZV9MHMcz",
   "metadata": {
    "id": "iTs5ZV9MHMcz"
   },
   "source": [
    "- https://google.github.io/adk-docs/deploy/agent-engine/\n",
    "- https://cloud.google.com/python/docs/reference/vertexai/latest/vertexai.preview.reasoning_engines.ReasoningEngine#vertexai_preview_reasoning_engines_ReasoningEngine_list"
   ]
  },
  {
   "cell_type": "markdown",
   "id": "rUGkcV1eDuCP",
   "metadata": {
    "id": "rUGkcV1eDuCP"
   },
   "source": [
    "# install packages"
   ]
  },
  {
   "cell_type": "code",
   "execution_count": 2,
   "id": "QxxbVsovdeOeP5E67SWNlMXC",
   "metadata": {
    "colab": {
     "base_uri": "https://localhost:8080/"
    },
    "id": "QxxbVsovdeOeP5E67SWNlMXC",
    "outputId": "6000f42c-1c2f-4344-f469-0f6b64a18a88",
    "scrolled": true,
    "tags": []
   },
   "outputs": [
    {
     "name": "stdout",
     "output_type": "stream",
     "text": [
      "Requirement already satisfied: google-genai in /opt/conda/lib/python3.10/site-packages (1.16.1)\n",
      "Collecting google-genai\n",
      "  Downloading google_genai-1.18.0-py3-none-any.whl.metadata (35 kB)\n",
      "Requirement already satisfied: google-adk in /opt/conda/lib/python3.10/site-packages (0.5.0)\n",
      "Collecting google-adk\n",
      "  Using cached google_adk-1.1.1-py3-none-any.whl.metadata (9.5 kB)\n",
      "Requirement already satisfied: google-cloud-aiplatform in /home/jupyter/.local/lib/python3.10/site-packages (1.95.0)\n",
      "Collecting google-cloud-aiplatform\n",
      "  Downloading google_cloud_aiplatform-1.95.1-py2.py3-none-any.whl.metadata (35 kB)\n",
      "Requirement already satisfied: anyio<5.0.0,>=4.8.0 in /opt/conda/lib/python3.10/site-packages (from google-genai) (4.9.0)\n",
      "Requirement already satisfied: google-auth<3.0.0,>=2.14.1 in /opt/conda/lib/python3.10/site-packages (from google-genai) (2.40.1)\n",
      "Requirement already satisfied: httpx<1.0.0,>=0.28.1 in /opt/conda/lib/python3.10/site-packages (from google-genai) (0.28.1)\n",
      "Requirement already satisfied: pydantic<3.0.0,>=2.0.0 in /home/jupyter/.local/lib/python3.10/site-packages (from google-genai) (2.11.2)\n",
      "Requirement already satisfied: requests<3.0.0,>=2.28.1 in /opt/conda/lib/python3.10/site-packages (from google-genai) (2.32.3)\n",
      "Requirement already satisfied: websockets<15.1.0,>=13.0.0 in /opt/conda/lib/python3.10/site-packages (from google-genai) (14.2)\n",
      "Requirement already satisfied: typing-extensions<5.0.0,>=4.11.0 in /opt/conda/lib/python3.10/site-packages (from google-genai) (4.13.2)\n",
      "Requirement already satisfied: authlib>=1.5.1 in /opt/conda/lib/python3.10/site-packages (from google-adk) (1.5.2)\n",
      "Requirement already satisfied: click>=8.1.8 in /opt/conda/lib/python3.10/site-packages (from google-adk) (8.1.8)\n",
      "Requirement already satisfied: fastapi>=0.115.0 in /opt/conda/lib/python3.10/site-packages (from google-adk) (0.115.9)\n",
      "Requirement already satisfied: google-api-python-client>=2.157.0 in /opt/conda/lib/python3.10/site-packages (from google-adk) (2.169.0)\n",
      "Requirement already satisfied: google-cloud-secret-manager>=2.22.0 in /opt/conda/lib/python3.10/site-packages (from google-adk) (2.23.3)\n",
      "Requirement already satisfied: google-cloud-speech>=2.30.0 in /opt/conda/lib/python3.10/site-packages (from google-adk) (2.32.0)\n",
      "Requirement already satisfied: google-cloud-storage<3.0.0,>=2.18.0 in /opt/conda/lib/python3.10/site-packages (from google-adk) (2.19.0)\n",
      "Requirement already satisfied: graphviz>=0.20.2 in /opt/conda/lib/python3.10/site-packages (from google-adk) (0.20.3)\n",
      "Requirement already satisfied: mcp>=1.5.0 in /opt/conda/lib/python3.10/site-packages (from google-adk) (1.6.0)\n",
      "Requirement already satisfied: opentelemetry-api>=1.31.0 in /opt/conda/lib/python3.10/site-packages (from google-adk) (1.33.1)\n",
      "Requirement already satisfied: opentelemetry-exporter-gcp-trace>=1.9.0 in /opt/conda/lib/python3.10/site-packages (from google-adk) (1.9.0)\n",
      "Requirement already satisfied: opentelemetry-sdk>=1.31.0 in /opt/conda/lib/python3.10/site-packages (from google-adk) (1.33.1)\n",
      "Requirement already satisfied: python-dotenv>=1.0.0 in /opt/conda/lib/python3.10/site-packages (from google-adk) (1.1.0)\n",
      "Requirement already satisfied: PyYAML>=6.0.2 in /opt/conda/lib/python3.10/site-packages (from google-adk) (6.0.2)\n",
      "Requirement already satisfied: sqlalchemy>=2.0 in /opt/conda/lib/python3.10/site-packages (from google-adk) (2.0.37)\n",
      "Requirement already satisfied: tzlocal>=5.3 in /opt/conda/lib/python3.10/site-packages (from google-adk) (5.3.1)\n",
      "Requirement already satisfied: uvicorn>=0.34.0 in /opt/conda/lib/python3.10/site-packages (from google-adk) (0.34.0)\n",
      "Requirement already satisfied: google-api-core!=2.0.*,!=2.1.*,!=2.2.*,!=2.3.*,!=2.4.*,!=2.5.*,!=2.6.*,!=2.7.*,<3.0.0,>=1.34.1 in /opt/conda/lib/python3.10/site-packages (from google-api-core[grpc]!=2.0.*,!=2.1.*,!=2.2.*,!=2.3.*,!=2.4.*,!=2.5.*,!=2.6.*,!=2.7.*,<3.0.0,>=1.34.1->google-cloud-aiplatform) (2.24.2)\n",
      "Requirement already satisfied: proto-plus<2.0.0,>=1.22.3 in /opt/conda/lib/python3.10/site-packages (from google-cloud-aiplatform) (1.26.1)\n",
      "Requirement already satisfied: protobuf!=4.21.0,!=4.21.1,!=4.21.2,!=4.21.3,!=4.21.4,!=4.21.5,<7.0.0,>=3.20.2 in /opt/conda/lib/python3.10/site-packages (from google-cloud-aiplatform) (5.29.4)\n",
      "Requirement already satisfied: packaging>=14.3 in /opt/conda/lib/python3.10/site-packages (from google-cloud-aiplatform) (24.2)\n",
      "Requirement already satisfied: google-cloud-bigquery!=3.20.0,<4.0.0,>=1.15.0 in /opt/conda/lib/python3.10/site-packages (from google-cloud-aiplatform) (3.25.0)\n",
      "Requirement already satisfied: google-cloud-resource-manager<3.0.0,>=1.3.3 in /opt/conda/lib/python3.10/site-packages (from google-cloud-aiplatform) (1.14.0)\n",
      "Requirement already satisfied: shapely<3.0.0 in /opt/conda/lib/python3.10/site-packages (from google-cloud-aiplatform) (2.0.7)\n",
      "Requirement already satisfied: docstring-parser<1 in /opt/conda/lib/python3.10/site-packages (from google-cloud-aiplatform) (0.16)\n",
      "Requirement already satisfied: exceptiongroup>=1.0.2 in /opt/conda/lib/python3.10/site-packages (from anyio<5.0.0,>=4.8.0->google-genai) (1.2.2)\n",
      "Requirement already satisfied: idna>=2.8 in /opt/conda/lib/python3.10/site-packages (from anyio<5.0.0,>=4.8.0->google-genai) (3.10)\n",
      "Requirement already satisfied: sniffio>=1.1 in /opt/conda/lib/python3.10/site-packages (from anyio<5.0.0,>=4.8.0->google-genai) (1.3.1)\n",
      "Requirement already satisfied: cryptography in /opt/conda/lib/python3.10/site-packages (from authlib>=1.5.1->google-adk) (44.0.0)\n",
      "Requirement already satisfied: starlette<0.46.0,>=0.40.0 in /opt/conda/lib/python3.10/site-packages (from fastapi>=0.115.0->google-adk) (0.45.3)\n",
      "Requirement already satisfied: googleapis-common-protos<2.0.0,>=1.56.2 in /opt/conda/lib/python3.10/site-packages (from google-api-core!=2.0.*,!=2.1.*,!=2.2.*,!=2.3.*,!=2.4.*,!=2.5.*,!=2.6.*,!=2.7.*,<3.0.0,>=1.34.1->google-api-core[grpc]!=2.0.*,!=2.1.*,!=2.2.*,!=2.3.*,!=2.4.*,!=2.5.*,!=2.6.*,!=2.7.*,<3.0.0,>=1.34.1->google-cloud-aiplatform) (1.70.0)\n",
      "Requirement already satisfied: grpcio<2.0dev,>=1.33.2 in /opt/conda/lib/python3.10/site-packages (from google-api-core[grpc]!=2.0.*,!=2.1.*,!=2.2.*,!=2.3.*,!=2.4.*,!=2.5.*,!=2.6.*,!=2.7.*,<3.0.0,>=1.34.1->google-cloud-aiplatform) (1.71.0)\n",
      "Requirement already satisfied: grpcio-status<2.0.dev0,>=1.33.2 in /opt/conda/lib/python3.10/site-packages (from google-api-core[grpc]!=2.0.*,!=2.1.*,!=2.2.*,!=2.3.*,!=2.4.*,!=2.5.*,!=2.6.*,!=2.7.*,<3.0.0,>=1.34.1->google-cloud-aiplatform) (1.71.0)\n",
      "Requirement already satisfied: httplib2<1.0.0,>=0.19.0 in /opt/conda/lib/python3.10/site-packages (from google-api-python-client>=2.157.0->google-adk) (0.22.0)\n",
      "Requirement already satisfied: google-auth-httplib2<1.0.0,>=0.2.0 in /opt/conda/lib/python3.10/site-packages (from google-api-python-client>=2.157.0->google-adk) (0.2.0)\n",
      "Requirement already satisfied: uritemplate<5,>=3.0.1 in /opt/conda/lib/python3.10/site-packages (from google-api-python-client>=2.157.0->google-adk) (4.1.1)\n",
      "Requirement already satisfied: cachetools<6.0,>=2.0.0 in /opt/conda/lib/python3.10/site-packages (from google-auth<3.0.0,>=2.14.1->google-genai) (5.5.2)\n",
      "Requirement already satisfied: pyasn1-modules>=0.2.1 in /opt/conda/lib/python3.10/site-packages (from google-auth<3.0.0,>=2.14.1->google-genai) (0.4.2)\n",
      "Requirement already satisfied: rsa<5,>=3.1.4 in /opt/conda/lib/python3.10/site-packages (from google-auth<3.0.0,>=2.14.1->google-genai) (4.9.1)\n",
      "Requirement already satisfied: google-cloud-core<3.0.0dev,>=1.6.0 in /opt/conda/lib/python3.10/site-packages (from google-cloud-bigquery!=3.20.0,<4.0.0,>=1.15.0->google-cloud-aiplatform) (2.4.1)\n",
      "Requirement already satisfied: google-resumable-media<3.0dev,>=0.6.0 in /opt/conda/lib/python3.10/site-packages (from google-cloud-bigquery!=3.20.0,<4.0.0,>=1.15.0->google-cloud-aiplatform) (2.7.2)\n",
      "Requirement already satisfied: python-dateutil<3.0dev,>=2.7.2 in /opt/conda/lib/python3.10/site-packages (from google-cloud-bigquery!=3.20.0,<4.0.0,>=1.15.0->google-cloud-aiplatform) (2.9.0.post0)\n",
      "Requirement already satisfied: grpc-google-iam-v1<1.0.0dev,>=0.12.4 in /opt/conda/lib/python3.10/site-packages (from google-cloud-resource-manager<3.0.0,>=1.3.3->google-cloud-aiplatform) (0.14.0)\n",
      "Requirement already satisfied: google-crc32c<2.0dev,>=1.0 in /opt/conda/lib/python3.10/site-packages (from google-cloud-storage<3.0.0,>=2.18.0->google-adk) (1.6.0)\n",
      "Requirement already satisfied: certifi in /opt/conda/lib/python3.10/site-packages (from httpx<1.0.0,>=0.28.1->google-genai) (2025.4.26)\n",
      "Requirement already satisfied: httpcore==1.* in /opt/conda/lib/python3.10/site-packages (from httpx<1.0.0,>=0.28.1->google-genai) (1.0.9)\n",
      "Requirement already satisfied: h11>=0.16 in /opt/conda/lib/python3.10/site-packages (from httpcore==1.*->httpx<1.0.0,>=0.28.1->google-genai) (0.16.0)\n",
      "Requirement already satisfied: httpx-sse>=0.4 in /opt/conda/lib/python3.10/site-packages (from mcp>=1.5.0->google-adk) (0.4.0)\n",
      "Requirement already satisfied: pydantic-settings>=2.5.2 in /opt/conda/lib/python3.10/site-packages (from mcp>=1.5.0->google-adk) (2.9.1)\n",
      "Requirement already satisfied: sse-starlette>=1.6.1 in /opt/conda/lib/python3.10/site-packages (from mcp>=1.5.0->google-adk) (2.3.3)\n",
      "Requirement already satisfied: deprecated>=1.2.6 in /opt/conda/lib/python3.10/site-packages (from opentelemetry-api>=1.31.0->google-adk) (1.2.18)\n",
      "Requirement already satisfied: importlib-metadata<8.7.0,>=6.0 in /opt/conda/lib/python3.10/site-packages (from opentelemetry-api>=1.31.0->google-adk) (7.2.1)\n",
      "Requirement already satisfied: google-cloud-trace~=1.1 in /opt/conda/lib/python3.10/site-packages (from opentelemetry-exporter-gcp-trace>=1.9.0->google-adk) (1.16.1)\n",
      "Requirement already satisfied: opentelemetry-resourcedetector-gcp==1.*,>=1.5.0dev0 in /opt/conda/lib/python3.10/site-packages (from opentelemetry-exporter-gcp-trace>=1.9.0->google-adk) (1.9.0a0)\n",
      "Requirement already satisfied: opentelemetry-semantic-conventions==0.54b1 in /opt/conda/lib/python3.10/site-packages (from opentelemetry-sdk>=1.31.0->google-adk) (0.54b1)\n",
      "Requirement already satisfied: annotated-types>=0.6.0 in /opt/conda/lib/python3.10/site-packages (from pydantic<3.0.0,>=2.0.0->google-genai) (0.7.0)\n",
      "Requirement already satisfied: pydantic-core==2.33.1 in /home/jupyter/.local/lib/python3.10/site-packages (from pydantic<3.0.0,>=2.0.0->google-genai) (2.33.1)\n",
      "Requirement already satisfied: typing-inspection>=0.4.0 in /opt/conda/lib/python3.10/site-packages (from pydantic<3.0.0,>=2.0.0->google-genai) (0.4.0)\n",
      "Requirement already satisfied: charset_normalizer<4,>=2 in /opt/conda/lib/python3.10/site-packages (from requests<3.0.0,>=2.28.1->google-genai) (3.4.2)\n",
      "Requirement already satisfied: urllib3<3,>=1.21.1 in /opt/conda/lib/python3.10/site-packages (from requests<3.0.0,>=2.28.1->google-genai) (2.4.0)\n",
      "Requirement already satisfied: numpy<3,>=1.14 in /opt/conda/lib/python3.10/site-packages (from shapely<3.0.0->google-cloud-aiplatform) (1.26.4)\n",
      "Requirement already satisfied: greenlet!=0.4.17 in /opt/conda/lib/python3.10/site-packages (from sqlalchemy>=2.0->google-adk) (3.1.1)\n",
      "Requirement already satisfied: wrapt<2,>=1.10 in /opt/conda/lib/python3.10/site-packages (from deprecated>=1.2.6->opentelemetry-api>=1.31.0->google-adk) (1.17.2)\n",
      "Requirement already satisfied: pyparsing!=3.0.0,!=3.0.1,!=3.0.2,!=3.0.3,<4,>=2.4.2 in /opt/conda/lib/python3.10/site-packages (from httplib2<1.0.0,>=0.19.0->google-api-python-client>=2.157.0->google-adk) (3.2.3)\n",
      "Requirement already satisfied: zipp>=0.5 in /opt/conda/lib/python3.10/site-packages (from importlib-metadata<8.7.0,>=6.0->opentelemetry-api>=1.31.0->google-adk) (3.21.0)\n",
      "Requirement already satisfied: pyasn1<0.7.0,>=0.6.1 in /opt/conda/lib/python3.10/site-packages (from pyasn1-modules>=0.2.1->google-auth<3.0.0,>=2.14.1->google-genai) (0.6.1)\n",
      "Requirement already satisfied: six>=1.5 in /opt/conda/lib/python3.10/site-packages (from python-dateutil<3.0dev,>=2.7.2->google-cloud-bigquery!=3.20.0,<4.0.0,>=1.15.0->google-cloud-aiplatform) (1.17.0)\n",
      "Requirement already satisfied: cffi>=1.12 in /opt/conda/lib/python3.10/site-packages (from cryptography->authlib>=1.5.1->google-adk) (1.17.1)\n",
      "Requirement already satisfied: pycparser in /opt/conda/lib/python3.10/site-packages (from cffi>=1.12->cryptography->authlib>=1.5.1->google-adk) (2.22)\n",
      "Downloading google_genai-1.18.0-py3-none-any.whl (199 kB)\n",
      "Using cached google_adk-1.1.1-py3-none-any.whl (1.2 MB)\n",
      "Downloading google_cloud_aiplatform-1.95.1-py2.py3-none-any.whl (7.7 MB)\n",
      "\u001b[2K   \u001b[90m━━━━━━━━━━━━━━━━━━━━━━━━━━━━━━━━━━━━━━━━\u001b[0m \u001b[32m7.7/7.7 MB\u001b[0m \u001b[31m96.0 MB/s\u001b[0m eta \u001b[36m0:00:00\u001b[0m\n",
      "\u001b[?25hInstalling collected packages: google-genai, google-cloud-aiplatform, google-adk\n",
      "  Attempting uninstall: google-genai\n",
      "    Found existing installation: google-genai 1.16.1\n",
      "    Uninstalling google-genai-1.16.1:\n",
      "      Successfully uninstalled google-genai-1.16.1\n",
      "  Attempting uninstall: google-cloud-aiplatform\n",
      "    Found existing installation: google-cloud-aiplatform 1.95.0\n",
      "    Uninstalling google-cloud-aiplatform-1.95.0:\n",
      "      Successfully uninstalled google-cloud-aiplatform-1.95.0\n",
      "  Attempting uninstall: google-adk\n",
      "    Found existing installation: google-adk 0.5.0\n",
      "    Uninstalling google-adk-0.5.0:\n",
      "      Successfully uninstalled google-adk-0.5.0\n",
      "\u001b[31mERROR: pip's dependency resolver does not currently take into account all the packages that are installed. This behaviour is the source of the following dependency conflicts.\n",
      "vertexai 1.71.1 requires google-cloud-aiplatform[all]==1.71.1, but you have google-cloud-aiplatform 1.95.1 which is incompatible.\u001b[0m\u001b[31m\n",
      "\u001b[0mSuccessfully installed google-adk-1.1.1 google-cloud-aiplatform-1.71.1 google-genai-1.18.0\n",
      "\n",
      "\u001b[1m[\u001b[0m\u001b[34;49mnotice\u001b[0m\u001b[1;39;49m]\u001b[0m\u001b[39;49m A new release of pip is available: \u001b[0m\u001b[31;49m25.0.1\u001b[0m\u001b[39;49m -> \u001b[0m\u001b[32;49m25.1.1\u001b[0m\n",
      "\u001b[1m[\u001b[0m\u001b[34;49mnotice\u001b[0m\u001b[1;39;49m]\u001b[0m\u001b[39;49m To update, run: \u001b[0m\u001b[32;49mpip install --upgrade pip\u001b[0m\n"
     ]
    }
   ],
   "source": [
    "!pip install -U google-genai google-adk google-cloud-aiplatform"
   ]
  },
  {
   "cell_type": "markdown",
   "id": "jY9-RlcoDyAK",
   "metadata": {
    "id": "jY9-RlcoDyAK"
   },
   "source": [
    "# develop agent (Simple)"
   ]
  },
  {
   "cell_type": "code",
   "execution_count": 3,
   "id": "9CHGAXnbEY1B",
   "metadata": {
    "colab": {
     "base_uri": "https://localhost:8080/"
    },
    "id": "9CHGAXnbEY1B",
    "outputId": "1028e118-52b1-41c8-f79d-68508a1ed9be",
    "tags": []
   },
   "outputs": [
    {
     "name": "stdout",
     "output_type": "stream",
     "text": [
      "google-adk                               1.1.1\n",
      "google-cloud-aiplatform                  1.71.1\n"
     ]
    }
   ],
   "source": [
    "! pip list | grep -e adk -e aiplatform"
   ]
  },
  {
   "cell_type": "code",
   "execution_count": 4,
   "id": "pU7oxGp_FAjd",
   "metadata": {
    "colab": {
     "base_uri": "https://localhost:8080/"
    },
    "id": "pU7oxGp_FAjd",
    "outputId": "770c20f0-25ed-4380-d17c-d4790e0e17d5",
    "scrolled": true,
    "tags": []
   },
   "outputs": [
    {
     "name": "stdout",
     "output_type": "stream",
     "text": [
      "gs://255766800726_us_central1_import_content/\n",
      "gs://255766800726_us_central1_import_content_with_faq_csv/\n",
      "gs://255766800726_us_import_content_with_faq_csv/\n",
      "gs://255766800726_us_import_product/\n",
      "gs://255766800726_us_import_user_event/\n",
      "gs://avatar-bucket-notebook/\n",
      "gs://cloud-ai-platform-67039ab0-1236-4b5e-8e7c-9bb8efa07266/\n",
      "gs://dataproc-staging-us-central1-255766800726-grrfr5mh/\n",
      "gs://genai-experiments-sm/\n",
      "gs://hp-books-my-project-0004-346516-pytor-asia-southeast1/\n",
      "gs://imagen-style-training/\n",
      "gs://masked-audio-hk2/\n",
      "gs://my-bk-my-project-0004--pytorch112kag-us-central1/\n",
      "gs://my-my-project-0004--pytorch112kag-us-central1/\n",
      "gs://my-project-0004-346516/\n",
      "gs://my-project-0004-346516-asia-notebooks/\n",
      "gs://my-project-0004-346516-darrylvideoragdemo-us-central1/\n",
      "gs://my-project-0004-346516-jingletest1/\n",
      "gs://my-project-0004-346516-movielens-data/\n",
      "gs://my-project-0004-346516-pruclaim/\n",
      "gs://my-project-0004-346516-sd/\n",
      "gs://my-project-0004-346516-sd02/\n",
      "gs://my-project-0004-346516-sd02-us-central1/\n",
      "gs://my-project-0004-346516-singhealth/\n",
      "gs://my-project-0004-346516-sm/\n",
      "gs://my-project-0004-346516-unique/\n",
      "gs://my-project-0004-346516-us-notebooks/\n",
      "gs://my-project-0004-346516_cloudbuild/\n",
      "gs://my-project-0004-b-buck/\n",
      "gs://my-project-0004-bucket/\n",
      "gs://my-project-0004-bucket02/\n",
      "gs://my-project-0004-scheduler/\n",
      "gs://my-project-0004-unique-eu/\n",
      "gs://sql-tunetest-2/\n",
      "gs://sqltune_test/\n",
      "gs://veretxai_image_recognition_02/\n"
     ]
    }
   ],
   "source": [
    "!gsutil ls"
   ]
  },
  {
   "cell_type": "code",
   "execution_count": 5,
   "id": "XN_Q5bF6EFaJ",
   "metadata": {
    "id": "XN_Q5bF6EFaJ",
    "tags": []
   },
   "outputs": [],
   "source": [
    "import vertexai\n",
    "from google.adk.agents import Agent"
   ]
  },
  {
   "cell_type": "code",
   "execution_count": 6,
   "id": "93JzkCUMEyzz",
   "metadata": {
    "id": "93JzkCUMEyzz",
    "tags": []
   },
   "outputs": [
    {
     "name": "stdout",
     "output_type": "stream",
     "text": [
      "Project ID: my-project-0004-346516\n",
      "Project Region: us-central1\n"
     ]
    }
   ],
   "source": [
    "import os\n",
    "\n",
    "# Cloud project id.\n",
    "PROJECT_IDS = !(gcloud config get-value core/project)\n",
    "PROJECT_ID = PROJECT_IDS[0]  # @param {type:\"string\"}\n",
    "\n",
    "if not PROJECT_ID:\n",
    "    PROJECT_ID = str(os.environ.get(\"GOOGLE_CLOUD_PROJECT\"))\n",
    "\n",
    "LOCATION = \"us-central1\" # @param {type:\"string\"}\n",
    "\n",
    "os.environ[\"GOOGLE_CLOUD_PROJECT\"] = PROJECT_ID\n",
    "os.environ[\"GOOGLE_CLOUD_LOCATION\"] = LOCATION\n",
    "os.environ[\"GOOGLE_GENAI_USE_VERTEXAI\"] = \"TRUE\" # Use Vertex AI API\n",
    "\n",
    "# Print project and location details\n",
    "print(f\"Project ID:\", PROJECT_ID)\n",
    "print(f\"Project Region:\", LOCATION)\n"
   ]
  },
  {
   "cell_type": "code",
   "execution_count": 7,
   "id": "0678dad9-719e-47b7-b77f-112d57055025",
   "metadata": {
    "tags": []
   },
   "outputs": [
    {
     "name": "stdout",
     "output_type": "stream",
     "text": [
      "\n",
      "my-project-0004-346516-sm already exists.\n"
     ]
    }
   ],
   "source": [
    "from google.cloud import storage\n",
    "\n",
    "client = storage.Client()\n",
    "\n",
    "GCS_BUCKET_LOCATION = LOCATION\n",
    "UNIQUE_PREFIX = 'sm' #\"<REPLACE_WITH_PREFIX>\"\n",
    "\n",
    "GCS_BUCKET_NAME = f\"{PROJECT_ID}-{UNIQUE_PREFIX}\"\n",
    "GCS_BUCKET_URI = f\"gs://{GCS_BUCKET_NAME}\"\n",
    "\n",
    "bucket = storage.Bucket(client, GCS_BUCKET_NAME)\n",
    "\n",
    "if bucket.exists()==False:\n",
    "    # Create a Cloud Storage Bucket\n",
    "    !gcloud storage buckets create $GCS_BUCKET_URI --location=$GCS_BUCKET_LOCATION\n",
    "\n",
    "else:    \n",
    "    print(f\"\\n{GCS_BUCKET_NAME} already exists.\")\n",
    "    \n",
    "def gcs_file(blob_name):\n",
    "    return bucket.blob(blob_name)\n"
   ]
  },
  {
   "cell_type": "code",
   "execution_count": 14,
   "id": "be1e027f-a306-42ad-953a-b40194bc117d",
   "metadata": {
    "tags": []
   },
   "outputs": [],
   "source": [
    "\n",
    "STAGING_BUCKET = GCS_BUCKET_URI  #@param{type:\"string\"}\n",
    "\n",
    "vertexai.init(\n",
    "    project=PROJECT_ID,\n",
    "    location=LOCATION,\n",
    "    staging_bucket=STAGING_BUCKET,\n",
    ")"
   ]
  },
  {
   "cell_type": "code",
   "execution_count": 9,
   "id": "a6jbEIYFDcD4",
   "metadata": {
    "id": "a6jbEIYFDcD4",
    "tags": []
   },
   "outputs": [],
   "source": [
    "from google.adk.agents import Agent\n",
    "\n",
    "root_agent = Agent(\n",
    "    model='gemini-2.0-flash-001',\n",
    "    name='hotel_agent',\n",
    "    description='A helpful assistant that answers questions about a specific city focused on Asia',\n",
    "    instruction='Answer user questions about a specific city related to Asia to the best of your knowledge. Do not answer questions outside of this.',\n",
    ")"
   ]
  },
  {
   "cell_type": "markdown",
   "id": "vRcHZufJFY5G",
   "metadata": {
    "id": "vRcHZufJFY5G"
   },
   "source": [
    "# local testing"
   ]
  },
  {
   "cell_type": "code",
   "execution_count": 10,
   "id": "Pnbz_9s5FhTn",
   "metadata": {
    "id": "Pnbz_9s5FhTn",
    "tags": []
   },
   "outputs": [],
   "source": [
    "from vertexai.preview import reasoning_engines\n",
    "\n",
    "app = reasoning_engines.AdkApp(\n",
    "    agent=root_agent,\n",
    "    enable_tracing=True,\n",
    ")"
   ]
  },
  {
   "cell_type": "code",
   "execution_count": 11,
   "id": "92f5aOcoFizD",
   "metadata": {
    "colab": {
     "base_uri": "https://localhost:8080/"
    },
    "id": "92f5aOcoFizD",
    "outputId": "25af644f-809f-46c3-afb4-7453ac8f8a7e",
    "tags": []
   },
   "outputs": [
    {
     "data": {
      "text/plain": [
       "Session(id='383f0f1d-23a1-4ce9-af42-09e6945dd6fb', app_name='default-app-name', user_id='u_123', state={}, events=[], last_update_time=1748791142.9375544)"
      ]
     },
     "execution_count": 11,
     "metadata": {},
     "output_type": "execute_result"
    }
   ],
   "source": [
    "session = app.create_session(user_id=\"u_123\")\n",
    "session"
   ]
  },
  {
   "cell_type": "code",
   "execution_count": 12,
   "id": "SzrLJ7rVFn1U",
   "metadata": {
    "colab": {
     "base_uri": "https://localhost:8080/"
    },
    "id": "SzrLJ7rVFn1U",
    "outputId": "06effe16-742b-4adc-c3b6-7fe794c0ca74",
    "tags": []
   },
   "outputs": [
    {
     "name": "stdout",
     "output_type": "stream",
     "text": [
      "{'content': {'parts': [{'text': 'Singapore is one of only three surviving city-states in the world.\\n'}], 'role': 'model'}, 'usage_metadata': {'candidates_token_count': 15, 'candidates_tokens_details': [{'modality': <MediaModality.TEXT: 'TEXT'>, 'token_count': 15}], 'prompt_token_count': 61, 'prompt_tokens_details': [{'modality': <MediaModality.TEXT: 'TEXT'>, 'token_count': 61}], 'total_token_count': 76, 'traffic_type': <TrafficType.ON_DEMAND: 'ON_DEMAND'>}, 'invocation_id': 'e-6188a6ed-351b-4a5a-8726-41e1c3749fea', 'author': 'hotel_agent', 'actions': {'state_delta': {}, 'artifact_delta': {}, 'requested_auth_configs': {}}, 'id': 'yjrsNkVb', 'timestamp': 1748791158.3058}\n"
     ]
    }
   ],
   "source": [
    "for event in app.stream_query(\n",
    "    user_id=\"u_123\",\n",
    "    session_id=session.id,\n",
    "    message=\"whats the best fact about Singapore\",\n",
    "):\n",
    "  print(event)"
   ]
  },
  {
   "cell_type": "markdown",
   "id": "EBk1qcbeD2lu",
   "metadata": {
    "id": "EBk1qcbeD2lu"
   },
   "source": [
    "# deploy agent"
   ]
  },
  {
   "cell_type": "code",
   "execution_count": 15,
   "id": "GzlvmEAzD-xB",
   "metadata": {
    "colab": {
     "base_uri": "https://localhost:8080/"
    },
    "id": "GzlvmEAzD-xB",
    "outputId": "7bf7a3c8-171d-49f9-9487-b4fa8af9b820",
    "tags": []
   },
   "outputs": [
    {
     "name": "stdout",
     "output_type": "stream",
     "text": [
      "Deploying google.adk.agents.Agent as an application.\n",
      "Identified the following requirements: {'pydantic': '2.11.2', 'cloudpickle': '3.0.0', 'google-cloud-aiplatform': '1.83.0'}\n",
      "The following requirements are missing: {'pydantic', 'cloudpickle'}\n",
      "The following requirements are appended: {'pydantic==2.11.2', 'cloudpickle==3.0.0'}\n",
      "The final list of requirements: ['google-cloud-aiplatform[adk,agent_engines]', 'pydantic==2.11.2', 'cloudpickle==3.0.0']\n",
      "Using bucket my-project-0004-346516-sm\n",
      "Wrote to gs://my-project-0004-346516-sm/agent_engine/agent_engine.pkl\n",
      "Writing to gs://my-project-0004-346516-sm/agent_engine/requirements.txt\n",
      "Creating in-memory tarfile of extra_packages\n",
      "Writing to gs://my-project-0004-346516-sm/agent_engine/dependencies.tar.gz\n",
      "Creating AgentEngine\n",
      "Create AgentEngine backing LRO: projects/255766800726/locations/us-central1/reasoningEngines/1512268292843110400/operations/7124018788806164480\n",
      "View progress and logs at https://console.cloud.google.com/logs/query?project=my-project-0004-346516\n",
      "AgentEngine created. Resource name: projects/255766800726/locations/us-central1/reasoningEngines/1512268292843110400\n",
      "To use this AgentEngine in another session:\n",
      "agent_engine = vertexai.agent_engines.get('projects/255766800726/locations/us-central1/reasoningEngines/1512268292843110400')\n"
     ]
    }
   ],
   "source": [
    "from vertexai import agent_engines\n",
    "\n",
    "name = dict(root_agent)['name']\n",
    "\n",
    "# https://github.com/googleapis/python-aiplatform/blob/main/vertexai/agent_engines/_agent_engines.py\n",
    "remote_app = agent_engines.create(\n",
    "    display_name=name,\n",
    "    agent_engine=root_agent,\n",
    "    requirements=[\n",
    "        \"google-cloud-aiplatform[adk,agent_engines]\",\n",
    "    ]\n",
    ")"
   ]
  },
  {
   "cell_type": "code",
   "execution_count": 16,
   "id": "nNwwWupHD4ss",
   "metadata": {
    "colab": {
     "base_uri": "https://localhost:8080/"
    },
    "id": "nNwwWupHD4ss",
    "outputId": "359ae74f-10b2-42b4-8bb5-7fb363af63e9",
    "tags": []
   },
   "outputs": [
    {
     "name": "stdout",
     "output_type": "stream",
     "text": [
      "<vertexai.agent_engines._agent_engines.AgentEngine object at 0x7f2c5420bcd0> \n",
      "resource name: projects/255766800726/locations/us-central1/reasoningEngines/1512268292843110400\n",
      "<vertexai.agent_engines._agent_engines.AgentEngine object at 0x7f2c5420b010> \n",
      "resource name: projects/255766800726/locations/us-central1/reasoningEngines/6201641404842639360\n",
      "<vertexai.agent_engines._agent_engines.AgentEngine object at 0x7f2c5420bbe0> \n",
      "resource name: projects/255766800726/locations/us-central1/reasoningEngines/3168044843343544320\n",
      "<vertexai.agent_engines._agent_engines.AgentEngine object at 0x7f2c543c9930> \n",
      "resource name: projects/255766800726/locations/us-central1/reasoningEngines/7354562909449486336\n",
      "<vertexai.agent_engines._agent_engines.AgentEngine object at 0x7f2c5420b250> \n",
      "resource name: projects/255766800726/locations/us-central1/reasoningEngines/6651579155114622976\n",
      "<vertexai.agent_engines._agent_engines.AgentEngine object at 0x7f2c542afa30> \n",
      "resource name: projects/255766800726/locations/us-central1/reasoningEngines/3636419204590075904\n",
      "<vertexai.agent_engines._agent_engines.AgentEngine object at 0x7f2c543c9690> \n",
      "resource name: projects/255766800726/locations/us-central1/reasoningEngines/6382102049286258688\n",
      "<vertexai.agent_engines._agent_engines.AgentEngine object at 0x7f2c542ae800> \n",
      "resource name: projects/255766800726/locations/us-central1/reasoningEngines/694055719917322240\n",
      "<vertexai.agent_engines._agent_engines.AgentEngine object at 0x7f2c543c9930> \n",
      "resource name: projects/255766800726/locations/us-central1/reasoningEngines/2985543505318772736\n",
      "Failed to register API methods. Please follow the guide to register the API methods: https://cloud.google.com/vertex-ai/generative-ai/docs/agent-engine/develop/custom#custom-methods. Error: {Operation schema {'name': 'LangchainAgent_query', 'description': 'Queries the Agent with the given input and config.\\n\\n        Args:\\n            input (Union[str, Mapping[str, Any]]):\\n                Required. The input to be passed to the Agent.\\n            config (langchain_core.runnables.RunnableConfig):\\n                Optional. The config (if any) to be used for invoking the Agent.\\n            **kwargs:\\n                Optional. Any additional keyword arguments to be passed to the\\n                `.invoke()` method of the corresponding AgentExecutor.\\n\\n        Returns:\\n            The output of querying the Agent with the given input and config.\\n        ', 'parameters': {'type': 'object', 'properties': {'input': {'anyOf': [{'type': 'string'}, {'type': 'object'}]}, 'config': {'nullable': True}}, '$defs': {'RunnableConfig': {'title': 'RunnableConfig', 'type': 'object', 'properties': {'configurable': {'title': 'Configurable', 'type': 'object'}, 'max_concurrency': {'anyOf': [{'type': 'integer'}, {'type': 'null'}], 'title': 'Max Concurrency'}, 'tags': {'title': 'Tags', 'type': 'array', 'items': {'type': 'string'}}, 'metadata': {'title': 'Metadata', 'type': 'object'}, 'recursion_limit': {'title': 'Recursion Limit', 'type': 'integer'}, 'run_name': {'title': 'Run Name', 'type': 'string'}, 'run_id': {'anyOf': [{'format': 'uuid', 'type': 'string'}, {'type': 'null'}], 'title': 'Run Id'}, 'callbacks': {'anyOf': [{'type': 'array', 'items': {}}, {}, {'type': 'null'}], 'title': 'Callbacks'}}, 'description': 'Configuration for a Runnable.'}}, 'required': ['input']}} does not contain an `api_mode` field.}\n",
      "<vertexai.agent_engines._agent_engines.AgentEngine object at 0x7f2c54218dc0> \n",
      "resource name: projects/255766800726/locations/us-central1/reasoningEngines/660920837502664704\n"
     ]
    }
   ],
   "source": [
    "for agent in agent_engines.list():\n",
    "  print(agent)"
   ]
  },
  {
   "cell_type": "code",
   "execution_count": 17,
   "id": "YseRyZChHBGj",
   "metadata": {
    "colab": {
     "base_uri": "https://localhost:8080/"
    },
    "id": "YseRyZChHBGj",
    "outputId": "3b71c5bc-9da5-4dfe-d8a5-85f7a4da2e18",
    "tags": []
   },
   "outputs": [
    {
     "name": "stdout",
     "output_type": "stream",
     "text": [
      "hotel_agent\n"
     ]
    }
   ],
   "source": [
    "print(remote_app.display_name)"
   ]
  },
  {
   "cell_type": "markdown",
   "id": "pTSmrtCPHXpe",
   "metadata": {
    "id": "pTSmrtCPHXpe"
   },
   "source": [
    "# remote testing"
   ]
  },
  {
   "cell_type": "code",
   "execution_count": 18,
   "id": "S6dhWDgKHXF6",
   "metadata": {
    "colab": {
     "base_uri": "https://localhost:8080/",
     "height": 669
    },
    "id": "S6dhWDgKHXF6",
    "outputId": "fcdc8667-9026-46f5-8173-a70d5d7b86ed",
    "tags": []
   },
   "outputs": [
    {
     "data": {
      "text/plain": [
       "{'appName': '1512268292843110400',\n",
       " 'events': [],\n",
       " 'state': {},\n",
       " 'id': '443301647842541568',\n",
       " 'lastUpdateTime': 1748791363.058443,\n",
       " 'userId': 'u_456'}"
      ]
     },
     "execution_count": 18,
     "metadata": {},
     "output_type": "execute_result"
    }
   ],
   "source": [
    "remote_session = remote_app.create_session(user_id=\"u_456\")\n",
    "remote_session"
   ]
  },
  {
   "cell_type": "code",
   "execution_count": 19,
   "id": "XDv2-vYjHHlo",
   "metadata": {
    "id": "XDv2-vYjHHlo",
    "tags": []
   },
   "outputs": [
    {
     "data": {
      "text/plain": [
       "{'sessions': [{'appName': '1512268292843110400',\n",
       "   'events': [],\n",
       "   'state': {},\n",
       "   'id': '443301647842541568',\n",
       "   'lastUpdateTime': 1748791363.058443,\n",
       "   'userId': 'u_456'}]}"
      ]
     },
     "execution_count": 19,
     "metadata": {},
     "output_type": "execute_result"
    }
   ],
   "source": [
    "remote_app.list_sessions(user_id=\"u_456\")"
   ]
  },
  {
   "cell_type": "code",
   "execution_count": 20,
   "id": "IrhR-cSQHb9M",
   "metadata": {
    "id": "IrhR-cSQHb9M",
    "tags": []
   },
   "outputs": [
    {
     "name": "stdout",
     "output_type": "stream",
     "text": [
      "{'content': {'parts': [{'text': 'Singapore Airlines is renowned for its exceptional service and consistently ranks among the world\\'s best airlines.\\n\\nAs for how it \"won over\" Qantas, that\\'s a complex issue. Qantas is a very established airline with a long history and strong brand recognition, particularly in Australia. However, Singapore Airlines has definitely become a major competitor in the international market, known for its superior customer experience and modern fleet.\\n'}], 'role': 'model'}, 'usage_metadata': {'candidates_token_count': 82, 'candidates_tokens_details': [{'modality': 'TEXT', 'token_count': 82}], 'prompt_token_count': 70, 'prompt_tokens_details': [{'modality': 'TEXT', 'token_count': 70}], 'total_token_count': 152, 'traffic_type': 'ON_DEMAND'}, 'invocation_id': 'e-183ce025-0632-4c15-bcda-4271b6caa818', 'author': 'hotel_agent', 'actions': {'state_delta': {}, 'artifact_delta': {}, 'requested_auth_configs': {}}, 'id': 'HJNeIXx9', 'timestamp': 1748791496.57071}\n"
     ]
    }
   ],
   "source": [
    "for event in remote_app.stream_query(\n",
    "    user_id=\"u_456\",\n",
    "    session_id=remote_session[\"id\"],\n",
    "    message=\"tell me a best fact about Singapore airlines and how it won over Quantas\",\n",
    "):\n",
    "    print(event)"
   ]
  }
 ],
 "metadata": {
  "colab": {
   "provenance": [],
   "toc_visible": true
  },
  "environment": {
   "kernel": "conda-base-py312",
   "name": "workbench-notebooks.m128",
   "type": "gcloud",
   "uri": "us-docker.pkg.dev/deeplearning-platform-release/gcr.io/workbench-notebooks:m128"
  },
  "kernelspec": {
   "display_name": "py312",
   "language": "python",
   "name": "conda-base-py312"
  },
  "language_info": {
   "codemirror_mode": {
    "name": "ipython",
    "version": 3
   },
   "file_extension": ".py",
   "mimetype": "text/x-python",
   "name": "python",
   "nbconvert_exporter": "python",
   "pygments_lexer": "ipython3",
   "version": "3.10.16"
  }
 },
 "nbformat": 4,
 "nbformat_minor": 5
}
