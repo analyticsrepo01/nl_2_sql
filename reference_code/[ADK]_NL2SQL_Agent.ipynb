{
 "cells": [
  {
   "cell_type": "markdown",
   "metadata": {
    "id": "vIjjdY96LNv3"
   },
   "source": [
    "### Install Dependencies"
   ]
  },
  {
   "cell_type": "code",
   "execution_count": null,
   "metadata": {
    "colab": {
     "base_uri": "https://localhost:8080/"
    },
    "id": "xFmCRMoMLQgq",
    "outputId": "cd235138-b769-421a-b14e-26a88cccfa82"
   },
   "outputs": [
    {
     "name": "stdout",
     "output_type": "stream",
     "text": [
      "\u001b[2K   \u001b[90m━━━━━━━━━━━━━━━━━━━━━━━━━━━━━━━━━━━━━━━━\u001b[0m \u001b[32m7.6/7.6 MB\u001b[0m \u001b[31m9.7 MB/s\u001b[0m eta \u001b[36m0:00:00\u001b[0m\n",
      "\u001b[2K   \u001b[90m━━━━━━━━━━━━━━━━━━━━━━━━━━━━━━━━━━━━━━━━\u001b[0m \u001b[32m1.2/1.2 MB\u001b[0m \u001b[31m21.6 MB/s\u001b[0m eta \u001b[36m0:00:00\u001b[0m\n",
      "\u001b[2K   \u001b[90m━━━━━━━━━━━━━━━━━━━━━━━━━━━━━━━━━━━━━━━━\u001b[0m \u001b[32m240.0/240.0 kB\u001b[0m \u001b[31m4.6 MB/s\u001b[0m eta \u001b[36m0:00:00\u001b[0m\n",
      "\u001b[2K   \u001b[90m━━━━━━━━━━━━━━━━━━━━━━━━━━━━━━━━━━━━━━━━\u001b[0m \u001b[32m95.2/95.2 kB\u001b[0m \u001b[31m1.8 MB/s\u001b[0m eta \u001b[36m0:00:00\u001b[0m\n",
      "\u001b[2K   \u001b[90m━━━━━━━━━━━━━━━━━━━━━━━━━━━━━━━━━━━━━━━━\u001b[0m \u001b[32m229.5/229.5 kB\u001b[0m \u001b[31m6.9 MB/s\u001b[0m eta \u001b[36m0:00:00\u001b[0m\n",
      "\u001b[2K   \u001b[90m━━━━━━━━━━━━━━━━━━━━━━━━━━━━━━━━━━━━━━━━\u001b[0m \u001b[32m217.1/217.1 kB\u001b[0m \u001b[31m9.0 MB/s\u001b[0m eta \u001b[36m0:00:00\u001b[0m\n",
      "\u001b[2K   \u001b[90m━━━━━━━━━━━━━━━━━━━━━━━━━━━━━━━━━━━━━━━━\u001b[0m \u001b[32m334.1/334.1 kB\u001b[0m \u001b[31m11.1 MB/s\u001b[0m eta \u001b[36m0:00:00\u001b[0m\n",
      "\u001b[2K   \u001b[90m━━━━━━━━━━━━━━━━━━━━━━━━━━━━━━━━━━━━━━━━\u001b[0m \u001b[32m103.3/103.3 kB\u001b[0m \u001b[31m3.6 MB/s\u001b[0m eta \u001b[36m0:00:00\u001b[0m\n",
      "\u001b[2K   \u001b[90m━━━━━━━━━━━━━━━━━━━━━━━━━━━━━━━━━━━━━━━━\u001b[0m \u001b[32m130.3/130.3 kB\u001b[0m \u001b[31m4.6 MB/s\u001b[0m eta \u001b[36m0:00:00\u001b[0m\n",
      "\u001b[2K   \u001b[90m━━━━━━━━━━━━━━━━━━━━━━━━━━━━━━━━━━━━━━━━\u001b[0m \u001b[32m65.8/65.8 kB\u001b[0m \u001b[31m2.1 MB/s\u001b[0m eta \u001b[36m0:00:00\u001b[0m\n",
      "\u001b[2K   \u001b[90m━━━━━━━━━━━━━━━━━━━━━━━━━━━━━━━━━━━━━━━━\u001b[0m \u001b[32m119.0/119.0 kB\u001b[0m \u001b[31m3.7 MB/s\u001b[0m eta \u001b[36m0:00:00\u001b[0m\n",
      "\u001b[2K   \u001b[90m━━━━━━━━━━━━━━━━━━━━━━━━━━━━━━━━━━━━━━━━\u001b[0m \u001b[32m194.9/194.9 kB\u001b[0m \u001b[31m6.0 MB/s\u001b[0m eta \u001b[36m0:00:00\u001b[0m\n",
      "\u001b[2K   \u001b[90m━━━━━━━━━━━━━━━━━━━━━━━━━━━━━━━━━━━━━━━━\u001b[0m \u001b[32m62.5/62.5 kB\u001b[0m \u001b[31m2.6 MB/s\u001b[0m eta \u001b[36m0:00:00\u001b[0m\n",
      "\u001b[2K   \u001b[90m━━━━━━━━━━━━━━━━━━━━━━━━━━━━━━━━━━━━━━━━\u001b[0m \u001b[32m44.4/44.4 kB\u001b[0m \u001b[31m1.6 MB/s\u001b[0m eta \u001b[36m0:00:00\u001b[0m\n",
      "\u001b[2K   \u001b[90m━━━━━━━━━━━━━━━━━━━━━━━━━━━━━━━━━━━━━━━━\u001b[0m \u001b[32m72.0/72.0 kB\u001b[0m \u001b[31m2.8 MB/s\u001b[0m eta \u001b[36m0:00:00\u001b[0m\n",
      "\u001b[?25h"
     ]
    }
   ],
   "source": [
    "!pip install --quiet google-adk 'google-cloud-aiplatform[agent_engines]==1.90.0'"
   ]
  },
  {
   "cell_type": "markdown",
   "metadata": {
    "id": "plFZ-vMKNCO5"
   },
   "source": [
    "### Restart runtime"
   ]
  },
  {
   "cell_type": "code",
   "execution_count": null,
   "metadata": {
    "id": "OzMdeWWeLa8E"
   },
   "outputs": [],
   "source": [
    "import IPython\n",
    "\n",
    "app = IPython.Application.instance()\n",
    "app.kernel.do_shutdown(True)"
   ]
  },
  {
   "cell_type": "markdown",
   "metadata": {
    "id": "5kcWGdQ7Lq6l"
   },
   "source": [
    "### Authenticate your notebook environment (Colab only)\n",
    "\n",
    "If you're running this notebook on Google Colab, run the cell below to authenticate your environment."
   ]
  },
  {
   "cell_type": "code",
   "execution_count": null,
   "metadata": {
    "id": "Ldd2F358NI_2"
   },
   "outputs": [],
   "source": [
    "import sys\n",
    "\n",
    "if \"google.colab\" in sys.modules:\n",
    "    from google.colab import auth\n",
    "\n",
    "    auth.authenticate_user()"
   ]
  },
  {
   "cell_type": "markdown",
   "metadata": {
    "id": "yoyUlepu1sPX"
   },
   "source": [
    "### Setup"
   ]
  },
  {
   "cell_type": "markdown",
   "metadata": {
    "id": "OWlYrt_lLwkb"
   },
   "source": [
    "Set Google Cloud project information"
   ]
  },
  {
   "cell_type": "code",
   "execution_count": null,
   "metadata": {
    "id": "2AbG69rmLjYG"
   },
   "outputs": [],
   "source": [
    "import time\n",
    "import os\n",
    "os.environ['GOOGLE_GENAI_USE_VERTEXAI'] = \"1\"\n",
    "\n",
    "GCP_PROJECT_ID = \"[your-project-id]\" #@param {type:\"string\"}\n",
    "if GCP_PROJECT_ID == \"[your-project-id]\":\n",
    "  raise ValueError('Please Enter a valid project id')\n",
    "\n",
    "os.environ['GOOGLE_CLOUD_PROJECT'] = GCP_PROJECT_ID\n",
    "os.environ['GOOGLE_CLOUD_LOCATION'] =\"us-central1\" #@param {type:\"string\"}"
   ]
  },
  {
   "cell_type": "markdown",
   "metadata": {
    "id": "4_m8PSoU1dyq"
   },
   "source": [
    "Handle Imports"
   ]
  },
  {
   "cell_type": "code",
   "execution_count": null,
   "metadata": {
    "id": "m-0tmwpbLkxQ"
   },
   "outputs": [],
   "source": [
    "from google.adk.agents import Agent\n",
    "from google.adk.artifacts import InMemoryArtifactService\n",
    "from google.adk.runners import Runner\n",
    "from google.adk.sessions import InMemorySessionService\n",
    "from google.genai import types\n",
    "import time\n",
    "import os\n",
    "import logging\n",
    "import sqlite3\n",
    "import pandas as pd\n",
    "import glob"
   ]
  },
  {
   "cell_type": "markdown",
   "metadata": {
    "id": "_BkraE7a2C6j"
   },
   "source": [
    "Define Constants"
   ]
  },
  {
   "cell_type": "code",
   "execution_count": null,
   "metadata": {
    "id": "hT6XOsRAN291"
   },
   "outputs": [],
   "source": [
    "APP_NAME = \"nl2sql_agent\"\n",
    "USER_ID = \"dev_user_01\"\n",
    "MODEL = \"gemini-2.0-flash\""
   ]
  },
  {
   "cell_type": "markdown",
   "metadata": {
    "id": "zcioxhWe19O7"
   },
   "source": [
    "### Define helper functions"
   ]
  },
  {
   "cell_type": "code",
   "execution_count": null,
   "metadata": {
    "id": "KsyWNOmzWbKf"
   },
   "outputs": [],
   "source": [
    "logging.getLogger('google_genai.types').setLevel(logging.ERROR)\n",
    "logging.basicConfig(level=logging.INFO, format='%(asctime)s - %(levelname)s - %(message)s')\n",
    "\n",
    "\n",
    "async def send_query_to_agent(agent, query):\n",
    "    \"\"\"Sends a query to the specified agent and returns the final response.\n",
    "\n",
    "        Args:\n",
    "            agent: The agent to send the query to.\n",
    "            query: The query to send to the agent.\n",
    "\n",
    "        Returns:\n",
    "            The final response from the agent as a string.\n",
    "    \"\"\"\n",
    "\n",
    "    session_service = InMemorySessionService()\n",
    "    artifact_service = InMemoryArtifactService()\n",
    "    # Create a new session - if you want to keep the history of interruction you need to move the\n",
    "    # creation of the session outside of this function. Here we create a new session per query\n",
    "    session = await session_service.create_session(app_name=APP_NAME,user_id=USER_ID,)\n",
    "\n",
    "    # Create a content object representing the user's query\n",
    "    content = types.Content(role='user', parts=[types.Part(text=query)])\n",
    "\n",
    "    # Start a timer to measure the response time\n",
    "    start_time = time.time()\n",
    "\n",
    "    # Create a runner object to manage the interaction with the agent\n",
    "    runner = Runner(app_name=APP_NAME, agent=agent, artifact_service=artifact_service, session_service=session_service)\n",
    "\n",
    "    # Run the interaction with the agent and get a stream of events\n",
    "    events = runner.run(user_id=USER_ID, session_id=session.id, new_message=content)\n",
    "\n",
    "\n",
    "    final_response = None\n",
    "    elapsed_time_ms = 0.0\n",
    "\n",
    "    # Loop through the events returned by the runner\n",
    "    for event in events:\n",
    "\n",
    "        is_final_response = event.is_final_response()\n",
    "        function_calls = event.get_function_calls()\n",
    "        function_responses = event.get_function_responses()\n",
    "\n",
    "        if not event.content:\n",
    "             continue\n",
    "\n",
    "        if is_final_response:\n",
    "            end_time = time.time()\n",
    "            elapsed_time_ms = round((end_time - start_time) * 1000, 3)\n",
    "            logging.info(f\"Agent Response Time: {elapsed_time_ms} ms\")\n",
    "\n",
    "            final_response = event.content.parts[0].text\n",
    "        elif function_calls:\n",
    "            print(\"\\n--- Function Call ---\")\n",
    "            print(f'Agent: {event.author}')\n",
    "            for function_call in function_calls:\n",
    "                print(f'Call Function: {function_call.name}')\n",
    "                print(f'Argument: {function_call.args}')\n",
    "            print(\"---------------------\\n\")\n",
    "        elif function_responses:\n",
    "            print(\"\\n--- Function Response ---\")\n",
    "            print(f'Agent: {event.author}')\n",
    "            for function_response in function_responses:\n",
    "                    print(f'Function Name: {function_response.name}')\n",
    "                    print(f'Function Results: {function_response.response}')\n",
    "            print(\"-------------------------\\n\")\n",
    "\n",
    "    return final_response\n",
    "\n",
    "\n",
    "def cleanup_database():\n",
    "    \"\"\"Removes all SQLite database files in the current directory.\"\"\"\n",
    "    db_files = glob.glob('*.db')\n",
    "    if db_files:\n",
    "        for db_file in db_files:\n",
    "            try:\n",
    "                os.remove(db_file)\n",
    "                print(f\"Database file '{db_file}' removed.\")\n",
    "            except Exception as e:\n",
    "                print(f\"Error removing file {db_file}: {e}\")\n",
    "    else:\n",
    "        print(\"No database files found to remove.\")"
   ]
  },
  {
   "cell_type": "code",
   "execution_count": null,
   "metadata": {
    "colab": {
     "base_uri": "https://localhost:8080/"
    },
    "id": "UP-8ijjv1PbP",
    "outputId": "5e21b6cf-4c3f-4cbe-c864-75dc741d94b4"
   },
   "outputs": [
    {
     "name": "stdout",
     "output_type": "stream",
     "text": [
      "Database file 'travel_data.db' removed.\n",
      "Database file 'employee_data.db' removed.\n"
     ]
    }
   ],
   "source": [
    "cleanup_database()"
   ]
  },
  {
   "cell_type": "markdown",
   "metadata": {
    "id": "sjGA7PrhxtfN"
   },
   "source": [
    "# NL2SQL Agent"
   ]
  },
  {
   "cell_type": "markdown",
   "metadata": {
    "id": "kD-4ABg22L6l"
   },
   "source": [
    "### Create SQL database with employee table"
   ]
  },
  {
   "cell_type": "code",
   "execution_count": null,
   "metadata": {
    "id": "2defdc65"
   },
   "outputs": [],
   "source": [
    "db_file = 'employee_data.db'\n",
    "\n",
    "def create_employee_table():\n",
    "    \"\"\"Creates the employees table in the SQLite database file.\"\"\"\n",
    "    conn = sqlite3.connect(db_file)\n",
    "    try:\n",
    "        conn.execute(\"CREATE TABLE IF NOT EXISTS employees (id INTEGER PRIMARY KEY, name TEXT, department TEXT, salary REAL)\")\n",
    "        conn.execute(\"INSERT INTO employees (name, department, salary) VALUES ('Alice', 'Sales', 50000)\")\n",
    "        conn.execute(\"INSERT INTO employees (name, department, salary) VALUES ('Bob', 'IT', 60000)\")\n",
    "        conn.execute(\"INSERT INTO employees (name, department, salary) VALUES ('Charlie', 'Sales', 55000)\")\n",
    "        conn.execute(\"INSERT INTO employees (name, department, salary) VALUES ('David', 'IT', 65000)\")\n",
    "        conn.execute(\"INSERT INTO employees (name, department, salary) VALUES ('Eve', 'Sales', 52000)\")\n",
    "        conn.commit()\n",
    "    except Exception as e:\n",
    "        print(f\"Error creating table: {e}\")\n",
    "    finally:\n",
    "        print(\"Employees table created successfully.\")\n",
    "        conn.close()"
   ]
  },
  {
   "cell_type": "code",
   "execution_count": null,
   "metadata": {
    "colab": {
     "base_uri": "https://localhost:8080/"
    },
    "id": "t-ljRrpmy0Zx",
    "outputId": "19d9dc51-6f44-4f83-99bb-0e078a1988cb"
   },
   "outputs": [
    {
     "name": "stdout",
     "output_type": "stream",
     "text": [
      "Employees table created successfully.\n"
     ]
    }
   ],
   "source": [
    "create_employee_table()"
   ]
  },
  {
   "cell_type": "markdown",
   "metadata": {
    "id": "-M3Ooteh2wvQ"
   },
   "source": [
    "### Create the Tools and the Agent"
   ]
  },
  {
   "cell_type": "code",
   "execution_count": null,
   "metadata": {
    "id": "vlPTfiQh2Tmk"
   },
   "outputs": [],
   "source": [
    "def execute_sql_query(query: str) -> str:\n",
    "    \"\"\"Executes a SQL query against the SQLite database file and returns the result as a string.\"\"\"\n",
    "    conn = sqlite3.connect(db_file)\n",
    "    try:\n",
    "        df = pd.read_sql_query(query, conn)\n",
    "        return df.to_string()\n",
    "    except Exception as e:\n",
    "        return f\"Error executing SQL query: {e}\"\n",
    "    finally:\n",
    "        conn.close()"
   ]
  },
  {
   "cell_type": "code",
   "execution_count": null,
   "metadata": {
    "id": "01e097c5"
   },
   "outputs": [],
   "source": [
    "nl2sql_agent = Agent(\n",
    "    model=MODEL,\n",
    "    name=APP_NAME,\n",
    "    description=\"An agent that can answer questions about employee data by executing SQL queries.\",\n",
    "    instruction=\"\"\"You are a helpful assistant that can answer questions about employee data.\n",
    "    You have access to a tool called `execute_sql_query` which can execute SQL queries against a table named `employees` with columns `id`, `name`, `department`, and `salary`.\n",
    "    When a user asks a question about the employee data, translate the question into a SQL query using the available table and columns, execute the query using the `execute_sql_query` tool, and return the result to the user.\n",
    "    If you cannot answer the question using a SQL query, respond that you can only answer questions about employee data.\n",
    "    \"\"\",\n",
    "    generate_content_config=types.GenerateContentConfig(temperature=0.2),\n",
    "    tools=[execute_sql_query],\n",
    ")"
   ]
  },
  {
   "cell_type": "markdown",
   "metadata": {
    "id": "1pqC3Mw72z_j"
   },
   "source": [
    "### Test the Agent\n",
    "\n"
   ]
  },
  {
   "cell_type": "code",
   "execution_count": null,
   "metadata": {
    "colab": {
     "base_uri": "https://localhost:8080/"
    },
    "id": "opPVVQId2lHY",
    "outputId": "af3a0118-cdb4-41f7-8818-7db9faa39049"
   },
   "outputs": [
    {
     "name": "stdout",
     "output_type": "stream",
     "text": [
      "Sample Employee Data:\n",
      "   id     name department   salary\n",
      "0   1    Alice      Sales  50000.0\n",
      "1   2      Bob         IT  60000.0\n",
      "2   3  Charlie      Sales  55000.0\n",
      "3   4    David         IT  65000.0\n",
      "4   5      Eve      Sales  52000.0\n"
     ]
    }
   ],
   "source": [
    "# Display the sample data table\n",
    "print(\"Sample Employee Data:\")\n",
    "print(execute_sql_query(\"SELECT * FROM employees\"))"
   ]
  },
  {
   "cell_type": "code",
   "execution_count": null,
   "metadata": {
    "colab": {
     "base_uri": "https://localhost:8080/"
    },
    "id": "776e6ecc",
    "outputId": "9f4ff61e-9c0c-4b5e-8c3d-c66e1d0a247d"
   },
   "outputs": [
    {
     "name": "stdout",
     "output_type": "stream",
     "text": [
      "\n",
      "--- Function Call ---\n",
      "Agent: nl2sql_agent\n",
      "Call Function: execute_sql_query\n",
      "Argument: {'query': 'SELECT name FROM employees'}\n",
      "---------------------\n",
      "\n",
      "\n",
      "--- Function Response ---\n",
      "Agent: nl2sql_agent\n",
      "Function Name: execute_sql_query\n",
      "Function Results: {'result': '      name\\n0    Alice\\n1      Bob\\n2  Charlie\\n3    David\\n4      Eve'}\n",
      "-------------------------\n",
      "\n",
      "\n",
      "==> Query: What are the names of all employees?\n",
      "==> Response: The names of all employees are Alice, Bob, Charlie, David, and Eve.\n",
      "\n"
     ]
    }
   ],
   "source": [
    "query = \"What are the names of all employees?\"\n",
    "\n",
    "response = await send_query_to_agent(nl2sql_agent, query)\n",
    "print(f\"\\n==> Query: {query}\")\n",
    "print(f\"==> Response: {response}\")\n"
   ]
  },
  {
   "cell_type": "code",
   "execution_count": null,
   "metadata": {
    "colab": {
     "base_uri": "https://localhost:8080/"
    },
    "id": "YtdV0yCb53ZK",
    "outputId": "12fd8403-ff6f-433a-8a1e-527f828f363f"
   },
   "outputs": [
    {
     "name": "stdout",
     "output_type": "stream",
     "text": [
      "\n",
      "--- Function Call ---\n",
      "Agent: nl2sql_agent\n",
      "Call Function: execute_sql_query\n",
      "Argument: {'query': 'SELECT avg(salary) FROM employees'}\n",
      "---------------------\n",
      "\n",
      "\n",
      "--- Function Response ---\n",
      "Agent: nl2sql_agent\n",
      "Function Name: execute_sql_query\n",
      "Function Results: {'result': '   avg(salary)\\n0      56400.0'}\n",
      "-------------------------\n",
      "\n",
      "\n",
      "==> Query: What is the average salary?\n",
      "==> Response: The average salary is 56400.0.\n"
     ]
    }
   ],
   "source": [
    "query = \"What is the average salary?\" # 56400\n",
    "\n",
    "response = await send_query_to_agent(nl2sql_agent, query)\n",
    "print(f\"\\n==> Query: {query}\")\n",
    "print(f\"==> Response: {response}\")\n"
   ]
  },
  {
   "cell_type": "code",
   "execution_count": null,
   "metadata": {
    "colab": {
     "base_uri": "https://localhost:8080/"
    },
    "id": "MZkGSDGj53Lr",
    "outputId": "9c9426f2-7e0c-47ef-b2de-fefdc2546f84"
   },
   "outputs": [
    {
     "name": "stdout",
     "output_type": "stream",
     "text": [
      "\n",
      "--- Function Call ---\n",
      "Agent: nl2sql_agent\n",
      "Call Function: execute_sql_query\n",
      "Argument: {'query': \"SELECT AVG(CASE WHEN department = 'IT' THEN salary ELSE NULL END) - AVG(CASE WHEN department = 'Sales' THEN salary ELSE NULL END) FROM employees\"}\n",
      "---------------------\n",
      "\n",
      "\n",
      "--- Function Response ---\n",
      "Agent: nl2sql_agent\n",
      "Function Name: execute_sql_query\n",
      "Function Results: {'result': \"   AVG(CASE WHEN department = 'IT' THEN salary ELSE NULL END) - AVG(CASE WHEN department = 'Sales' THEN salary ELSE NULL END)\\n0                                                                                                                10166.666667\"}\n",
      "-------------------------\n",
      "\n",
      "\n",
      "==> Query: What is the difference in avg salaries of someone in IT vs Sales \n",
      "==> Response: The difference in average salaries between the IT and Sales departments is 10166.67.\n"
     ]
    }
   ],
   "source": [
    "query = \"What is the difference in avg salaries of someone in IT vs Sales \" # 10166.67\n",
    "\n",
    "response = await send_query_to_agent(nl2sql_agent, query)\n",
    "print(f\"\\n==> Query: {query}\")\n",
    "print(f\"==> Response: {response}\")\n"
   ]
  },
  {
   "cell_type": "markdown",
   "metadata": {
    "id": "jgK2VEbcx2xz"
   },
   "source": [
    "# NL2SQL Agent with Multiple Tables"
   ]
  },
  {
   "cell_type": "markdown",
   "metadata": {
    "id": "Nr_ROteY3FS2"
   },
   "source": [
    "### Create the Travel Database with multiple tables"
   ]
  },
  {
   "cell_type": "code",
   "execution_count": null,
   "metadata": {
    "colab": {
     "base_uri": "https://localhost:8080/"
    },
    "id": "461d4d05",
    "outputId": "fa8da31c-b0b8-400e-a87a-5b614910ae43"
   },
   "outputs": [
    {
     "name": "stdout",
     "output_type": "stream",
     "text": [
      "Table structures and sample data defined.\n"
     ]
    }
   ],
   "source": [
    "# Define table structures and sample data\n",
    "\n",
    "# Flights table\n",
    "flights_table_definition = \"\"\"\n",
    "CREATE TABLE IF NOT EXISTS flights (\n",
    "    flight_id INTEGER PRIMARY KEY,\n",
    "    origin TEXT,\n",
    "    destination TEXT,\n",
    "    departure_time TEXT,\n",
    "    arrival_time TEXT,\n",
    "    price REAL\n",
    ")\n",
    "\"\"\"\n",
    "flights_sample_data = [\n",
    "    (1, 'JFK', 'LAX', '2025-06-01 08:00:00', '2025-06-01 11:00:00', 350.00),\n",
    "    (2, 'LAX', 'JFK', '2025-06-01 12:00:00', '2025-06-01 20:00:00', 320.00),\n",
    "    (3, 'JFK', 'MIA', '2025-06-02 09:00:00', '2025-06-02 12:00:00', 250.00),\n",
    "    (4, 'MIA', 'JFK', '2025-06-02 13:00:00', '2025-06-02 16:00:00', 230.00),\n",
    "    (5, 'LAX', 'MIA', '2025-06-03 10:00:00', '2025-06-03 17:00:00', 400.00),\n",
    "]\n",
    "\n",
    "# Hotels table\n",
    "hotels_table_definition = \"\"\"\n",
    "CREATE TABLE IF NOT EXISTS hotels (\n",
    "    hotel_id INTEGER PRIMARY KEY,\n",
    "    name TEXT,\n",
    "    location TEXT,\n",
    "    price_per_night REAL,\n",
    "    rating REAL\n",
    ")\n",
    "\"\"\"\n",
    "hotels_sample_data = [\n",
    "    (101, 'Hilton LAX', 'LAX', 150.00, 4.5),\n",
    "    (102, 'Marriott JFK', 'JFK', 180.00, 4.8),\n",
    "    (103, 'Hyatt Regency Miami', 'MIA', 120.00, 4.2),\n",
    "    (104, 'Embassy Suites LAX', 'LAX', 160.00, 4.4),\n",
    "]\n",
    "\n",
    "# Bookings table\n",
    "bookings_table_definition = \"\"\"\n",
    "CREATE TABLE IF NOT EXISTS bookings (\n",
    "    booking_id INTEGER PRIMARY KEY,\n",
    "    customer_name TEXT,\n",
    "    type TEXT CHECK(type IN ('flight', 'hotel')),\n",
    "    item_id INTEGER,\n",
    "    booking_date TEXT\n",
    ")\n",
    "\"\"\"\n",
    "bookings_sample_data = [\n",
    "    (1001, 'Alice', 'flight', 1, '2025-05-20'),\n",
    "    (1002, 'Bob', 'hotel', 101, '2025-05-21'),\n",
    "    (1003, 'Charlie', 'flight', 3, '2025-05-22'),\n",
    "    (1004, 'David', 'hotel', 103, '2025-05-23'),\n",
    "    (1005, 'Alice', 'hotel', 102, '2025-05-23'),\n",
    "    (1006, 'Bob', 'flight', 2, '2025-05-24'),\n",
    "]\n",
    "\n",
    "print(\"Table structures and sample data defined.\")"
   ]
  },
  {
   "cell_type": "code",
   "execution_count": null,
   "metadata": {
    "id": "71815674"
   },
   "outputs": [],
   "source": [
    "def create_travel_tables(db_file: str):\n",
    "    \"\"\"Creates the travel tables in the SQLite database file.\"\"\"\n",
    "    conn = None\n",
    "    try:\n",
    "        conn = sqlite3.connect(db_file)\n",
    "        conn.execute(flights_table_definition)\n",
    "        conn.execute(hotels_table_definition)\n",
    "        conn.execute(bookings_table_definition)\n",
    "        conn.commit()\n",
    "        print(\"Travel tables created successfully.\")\n",
    "    except sqlite3.Error as e:\n",
    "        print(f\"Error creating tables: {e}\")\n",
    "    finally:\n",
    "        if conn:\n",
    "            conn.close()\n",
    "\n",
    "def insert_travel_data(db_file: str, table_name: str, data):\n",
    "    \"\"\"Inserts sample data into a specified table in the SQLite database file.\"\"\"\n",
    "    conn = None\n",
    "    try:\n",
    "        conn = sqlite3.connect(db_file)\n",
    "        if table_name == \"flights\":\n",
    "            conn.executemany(\"INSERT INTO flights (flight_id, origin, destination, departure_time, arrival_time, price) VALUES (?, ?, ?, ?, ?, ?)\", data)\n",
    "        elif table_name == \"hotels\":\n",
    "            conn.executemany(\"INSERT INTO hotels (hotel_id, name, location, price_per_night, rating) VALUES (?, ?, ?, ?, ?)\", data)\n",
    "        elif table_name == \"bookings\":\n",
    "            conn.executemany(\"INSERT INTO bookings (booking_id, customer_name, type, item_id, booking_date) VALUES (?, ?, ?, ?, ?)\", data)\n",
    "        else:\n",
    "            print(f\"Unknown table name: {table_name}\")\n",
    "            return\n",
    "        conn.commit()\n",
    "        print(f\"Sample data inserted into {table_name} successfully.\")\n",
    "    except sqlite3.Error as e:\n",
    "        print(f\"Error inserting data into {table_name}: {e}\")\n",
    "    finally:\n",
    "        if conn:\n",
    "            conn.close()"
   ]
  },
  {
   "cell_type": "code",
   "execution_count": null,
   "metadata": {
    "colab": {
     "base_uri": "https://localhost:8080/"
    },
    "id": "RsDvbkFZzOKf",
    "outputId": "c3610415-d531-405b-c634-9ce3ac8bbd61"
   },
   "outputs": [
    {
     "name": "stdout",
     "output_type": "stream",
     "text": [
      "Travel tables created successfully.\n",
      "Error inserting data into flights: UNIQUE constraint failed: flights.flight_id\n",
      "Error inserting data into hotels: UNIQUE constraint failed: hotels.hotel_id\n",
      "Error inserting data into bookings: UNIQUE constraint failed: bookings.booking_id\n"
     ]
    }
   ],
   "source": [
    "travel_db_file = 'travel_data.db'\n",
    "create_travel_tables(travel_db_file)\n",
    "\n",
    "insert_travel_data(travel_db_file, \"flights\", flights_sample_data)\n",
    "insert_travel_data(travel_db_file, \"hotels\", hotels_sample_data)\n",
    "insert_travel_data(travel_db_file, \"bookings\", bookings_sample_data)\n"
   ]
  },
  {
   "cell_type": "markdown",
   "metadata": {
    "id": "0LiQtIpF3UMn"
   },
   "source": [
    "### Create the Tools and the Agent"
   ]
  },
  {
   "cell_type": "code",
   "execution_count": null,
   "metadata": {
    "id": "805e54fa"
   },
   "outputs": [],
   "source": [
    "def execute_sql_query(query: str) -> str:\n",
    "    \"\"\"Executes a SQL query against the SQLite database file and returns the result as a string.\"\"\"\n",
    "    db_file = 'travel_data.db'\n",
    "    conn = None\n",
    "    try:\n",
    "        conn = sqlite3.connect(db_file)\n",
    "        df = pd.read_sql_query(query, conn)\n",
    "        return df.to_string()\n",
    "    except Exception as e:\n",
    "        return f\"Error executing SQL query: {e}\"\n",
    "    finally:\n",
    "        if conn:\n",
    "            conn.close()"
   ]
  },
  {
   "cell_type": "code",
   "execution_count": null,
   "metadata": {
    "id": "o2f9-wKR7JMA"
   },
   "outputs": [],
   "source": [
    "nl2sql_agent = Agent(\n",
    "    model=MODEL,\n",
    "    name=APP_NAME,\n",
    "    description=\"An agent that can answer questions about travel data by executing SQL queries.\",\n",
    "    instruction=\"\"\"You are a helpful assistant that can answer questions about travel data.\n",
    "    You have access to a tool called `execute_sql_query` which can execute SQL queries against a SQLite database.\n",
    "\n",
    "    The database contains the following tables:\n",
    "\n",
    "    - `flights`: Contains flight information.\n",
    "        - Columns: `flight_id` (INTEGER), `origin` (TEXT), `destination` (TEXT), `departure_time` (TEXT), `arrival_time` (TEXT), `price` (REAL)\n",
    "\n",
    "    - `hotels`: Contains hotel details.\n",
    "        - Columns: `hotel_id` (INTEGER), `name` (TEXT), `location` (TEXT), `price_per_night` (REAL), `rating` (REAL)\n",
    "\n",
    "    - `bookings`: Records customer bookings for flights and hotels.\n",
    "        - Columns: `booking_id` (INTEGER), `customer_name` (TEXT), `type` (TEXT, 'flight' or 'hotel'), `item_id` (INTEGER), `booking_date` (TEXT)\n",
    "\n",
    "    When a user asks a question about the data, translate the question into a SQL query using the available tables and columns, execute the query using the `execute_sql_query` tool, and return the result to the user.\n",
    "    If you cannot answer the question using a SQL query based on the available tables, respond that you can only answer questions about the travel data.\n",
    "    \"\"\",\n",
    "    generate_content_config=types.GenerateContentConfig(temperature=0.2),\n",
    "    tools=[execute_sql_query],\n",
    ")"
   ]
  },
  {
   "cell_type": "markdown",
   "metadata": {
    "id": "0MPxy2ew3j5_"
   },
   "source": [
    "### Test the Agent"
   ]
  },
  {
   "cell_type": "code",
   "execution_count": null,
   "metadata": {
    "colab": {
     "base_uri": "https://localhost:8080/"
    },
    "id": "7-Jj0o1l3jhz",
    "outputId": "7d25bb22-6bc5-405d-ae82-87434fcc1dd5"
   },
   "outputs": [
    {
     "name": "stdout",
     "output_type": "stream",
     "text": [
      "\n",
      "Contents of tables:\n",
      "Flights:\n",
      "   flight_id origin destination       departure_time         arrival_time  price\n",
      "0          1    JFK         LAX  2025-06-01 08:00:00  2025-06-01 11:00:00  350.0\n",
      "1          2    LAX         JFK  2025-06-01 12:00:00  2025-06-01 20:00:00  320.0\n",
      "2          3    JFK         MIA  2025-06-02 09:00:00  2025-06-02 12:00:00  250.0\n",
      "3          4    MIA         JFK  2025-06-02 13:00:00  2025-06-02 16:00:00  230.0\n",
      "4          5    LAX         MIA  2025-06-03 10:00:00  2025-06-03 17:00:00  400.0\n",
      "Hotels:\n",
      "   hotel_id                 name location  price_per_night  rating\n",
      "0       101           Hilton LAX      LAX            150.0     4.5\n",
      "1       102         Marriott JFK      JFK            180.0     4.8\n",
      "2       103  Hyatt Regency Miami      MIA            120.0     4.2\n",
      "3       104   Embassy Suites LAX      LAX            160.0     4.4\n",
      "Bookings:\n",
      "   booking_id customer_name    type  item_id booking_date\n",
      "0        1001         Alice  flight        1   2025-05-20\n",
      "1        1002           Bob   hotel      101   2025-05-21\n",
      "2        1003       Charlie  flight        3   2025-05-22\n",
      "3        1004         David   hotel      103   2025-05-23\n",
      "4        1005         Alice   hotel      102   2025-05-23\n",
      "5        1006           Bob  flight        2   2025-05-24\n"
     ]
    }
   ],
   "source": [
    "print(\"\\nContents of tables:\")\n",
    "print(\"Flights:\")\n",
    "print(execute_sql_query(\"SELECT * FROM flights\"))\n",
    "print(\"Hotels:\")\n",
    "print(execute_sql_query(\"SELECT * FROM hotels\"))\n",
    "print(\"Bookings:\")\n",
    "print(execute_sql_query(\"SELECT * FROM bookings\"))"
   ]
  },
  {
   "cell_type": "code",
   "execution_count": null,
   "metadata": {
    "colab": {
     "base_uri": "https://localhost:8080/"
    },
    "id": "461WJJ1h3h26",
    "outputId": "ee68be1f-6b8c-4163-be48-859f685168c6"
   },
   "outputs": [
    {
     "name": "stdout",
     "output_type": "stream",
     "text": [
      "\n",
      "--- Function Call ---\n",
      "Agent: nl2sql_agent\n",
      "Call Function: execute_sql_query\n",
      "Argument: {'query': \"SELECT DISTINCT T1.customer_name FROM bookings AS T1 JOIN flights AS T2 ON T1.item_id = T2.flight_id WHERE T2.destination = 'LAX'\"}\n",
      "---------------------\n",
      "\n",
      "\n",
      "--- Function Response ---\n",
      "Agent: nl2sql_agent\n",
      "Function Name: execute_sql_query\n",
      "Function Results: {'result': '  customer_name\\n0         Alice'}\n",
      "-------------------------\n",
      "\n",
      "\n",
      "==> Query: Find the names of customers who booked flights to LAX.\n",
      "==> Response: Alice is the customer who booked flights to LAX.\n",
      "------------------------------\n"
     ]
    }
   ],
   "source": [
    "query = \"Find the names of customers who booked flights to LAX.\"\n",
    "response = await send_query_to_agent(nl2sql_agent, query)\n",
    "print(f\"\\n==> Query: {query}\")\n",
    "print(f\"==> Response: {response}\")\n",
    "print(\"-\" * 30)"
   ]
  },
  {
   "cell_type": "code",
   "execution_count": null,
   "metadata": {
    "colab": {
     "base_uri": "https://localhost:8080/"
    },
    "id": "VBMNNUze6aLQ",
    "outputId": "651ced35-1eb7-4555-9561-a1f91d027645"
   },
   "outputs": [
    {
     "name": "stdout",
     "output_type": "stream",
     "text": [
      "\n",
      "--- Function Call ---\n",
      "Agent: nl2sql_agent\n",
      "Call Function: execute_sql_query\n",
      "Argument: {'query': \"SELECT T1.name FROM hotels AS T1 JOIN bookings AS T2 ON T1.hotel_id = T2.item_id WHERE T2.customer_name = 'Alice' AND T2.type = 'hotel'\"}\n",
      "---------------------\n",
      "\n",
      "\n",
      "--- Function Response ---\n",
      "Agent: nl2sql_agent\n",
      "Function Name: execute_sql_query\n",
      "Function Results: {'result': '           name\\n0  Marriott JFK'}\n",
      "-------------------------\n",
      "\n",
      "\n",
      "==> Query: List the hotels booked by Alice.\n",
      "==> Response: Marriott JFK\n",
      "------------------------------\n"
     ]
    }
   ],
   "source": [
    "query = \"List the hotels booked by Alice.\"\n",
    "response = await send_query_to_agent(nl2sql_agent, query)\n",
    "print(f\"\\n==> Query: {query}\")\n",
    "print(f\"==> Response: {response}\")\n",
    "print(\"-\" * 30)"
   ]
  },
  {
   "cell_type": "code",
   "execution_count": null,
   "metadata": {
    "id": "4Hioko6uuMOC"
   },
   "outputs": [],
   "source": [
    "cleanup_database()"
   ]
  },
  {
   "cell_type": "markdown",
   "metadata": {
    "id": "836674c4"
   },
   "source": [
    "## NL2SQL Agent with Multiple Tables and Basic Visualization"
   ]
  },
  {
   "cell_type": "markdown",
   "metadata": {
    "id": "8a219bff"
   },
   "source": [
    "### Redefine Tools and Agent for Visualization"
   ]
  },
  {
   "cell_type": "code",
   "execution_count": null,
   "metadata": {
    "id": "441213b4"
   },
   "outputs": [],
   "source": [
    "import matplotlib.pyplot as plt\n",
    "import seaborn as sns\n",
    "import pandas as pd\n",
    "import sqlite3\n",
    "\n",
    "def execute_sql_query_with_df(query: str) -> str:\n",
    "    \"\"\"Executes a SQL query against the SQLite database file, returns the result as a string, and visualizes if possible.\"\"\"\n",
    "    db_file = 'travel_data.db'\n",
    "    conn = None\n",
    "    df = None\n",
    "    result_string = \"\"\n",
    "    try:\n",
    "        conn = sqlite3.connect(db_file)\n",
    "        df = pd.read_sql_query(query, conn)\n",
    "        result_string = df.to_string()\n",
    "\n",
    "        visualize_data(df, query)\n",
    "\n",
    "    except Exception as e:\n",
    "        result_string = f\"Error executing SQL query: {e}\"\n",
    "        df = None\n",
    "    finally:\n",
    "        if conn:\n",
    "            conn.close()\n",
    "    return result_string\n",
    "\n",
    "def visualize_data(df: pd.DataFrame, query: str):\n",
    "    \"\"\"Generates a visualization based on the DataFrame and query.\"\"\"\n",
    "    if df is None or df.empty:\n",
    "        print(\"No data to visualize.\")\n",
    "        return\n",
    "\n",
    "    # Basic visualization logic - can be expanded based on query intent/NL2Python\n",
    "    try:\n",
    "        if len(df.columns) == 2:\n",
    "            # Try to plot if two columns, assuming one is categorical/label and the other is numerical\n",
    "            # Check if the second column is numeric for plotting\n",
    "            if pd.api.types.is_numeric_dtype(df.iloc[:, 1]):\n",
    "                df.set_index(df.columns[0], inplace=True)\n",
    "                df.plot(kind='bar', legend=False)\n",
    "                plt.title(\"Visualization of Query Results\")\n",
    "                plt.xlabel(df.index.name)\n",
    "                plt.ylabel(df.columns[0])\n",
    "                plt.xticks(rotation=45, ha='right')\n",
    "                plt.tight_layout()\n",
    "                plt.show()\n",
    "            else:\n",
    "                print(\"Second column is not numeric, skipping automatic visualization.\")\n",
    "        elif len(df.columns) > 2:\n",
    "            print(\"DataFrame has more than two columns, skipping automatic visualization.\")\n",
    "        else:\n",
    "             print(\"DataFrame has only one column, skipping automatic visualization.\")\n",
    "\n",
    "    except Exception as e:\n",
    "        print(f\"Could not generate visualization: {e}\")"
   ]
  },
  {
   "cell_type": "code",
   "execution_count": null,
   "metadata": {
    "id": "eaf45aac"
   },
   "outputs": [],
   "source": [
    "import logging\n",
    "import time\n",
    "from google.genai import types\n",
    "from google.adk.runners import Runner\n",
    "from google.adk.sessions import InMemorySessionService\n",
    "from google.adk.artifacts import InMemoryArtifactService\n",
    "\n",
    "\n",
    "logging.getLogger('google_genai.types').setLevel(logging.ERROR)\n",
    "logging.basicConfig(level=logging.INFO, format='%(asctime)s - %(levelname)s - %(message)s')\n",
    "\n",
    "\n",
    "async def send_query_to_agent(agent, query):\n",
    "    \"\"\"Sends a query to the specified agent and returns the final response and any executed SQL query.\"\"\"\n",
    "\n",
    "    session_service = InMemorySessionService()\n",
    "    artifact_service = InMemoryArtifactService()\n",
    "    session = await session_service.create_session(app_name=APP_NAME,user_id=USER_ID,)\n",
    "\n",
    "    content = types.Content(role='user', parts=[types.Part(text=query)])\n",
    "\n",
    "    start_time = time.time()\n",
    "\n",
    "    runner = Runner(app_name=APP_NAME, agent=agent, artifact_service=artifact_service, session_service=session_service)\n",
    "\n",
    "    events = runner.run(user_id=USER_ID, session_id=session.id, new_message=content)\n",
    "\n",
    "\n",
    "    final_response = None\n",
    "    elapsed_time_ms = 0.0\n",
    "    executed_sql_query = None\n",
    "\n",
    "    for event in events:\n",
    "\n",
    "        is_final_response = event.is_final_response()\n",
    "        function_calls = event.get_function_calls()\n",
    "        function_responses = event.get_function_responses()\n",
    "\n",
    "        if not event.content:\n",
    "             continue\n",
    "\n",
    "        if is_final_response:\n",
    "            end_time = time.time()\n",
    "            elapsed_time_ms = round((end_time - start_time) * 1000, 3)\n",
    "            logging.info(f\"Agent Response Time: {elapsed_time_ms} ms\")\n",
    "\n",
    "            final_response = event.content.parts[0].text\n",
    "            break\n",
    "\n",
    "        elif function_calls:\n",
    "            print(\"\\n--- Function Call ---\")\n",
    "            print(f'Agent: {event.author}')\n",
    "            for function_call in function_calls:\n",
    "                print(f'Call Function: {function_call.name}')\n",
    "                print(f'Argument: {function_call.args}')\n",
    "                if function_call.name == \"execute_sql_query_with_df\":\n",
    "                     executed_sql_query = function_call.args.get('query', '')\n",
    "            print(\"---------------------\\n\")\n",
    "\n",
    "        elif function_responses:\n",
    "            print(\"\\n--- Function Response ---\")\n",
    "            print(f'Agent: {event.author}')\n",
    "            for function_response in function_responses:\n",
    "                    print(f'Function Name: {function_response.name}')\n",
    "                    print(f'Function Results: {function_response.response}')\n",
    "            print(\"-------------------------\\n\")\n",
    "\n",
    "    return final_response, executed_sql_query"
   ]
  },
  {
   "cell_type": "code",
   "execution_count": null,
   "metadata": {
    "id": "f05e25c4"
   },
   "outputs": [],
   "source": [
    "nl2sql_agent_viz = Agent(\n",
    "    model=MODEL,\n",
    "    name=APP_NAME,\n",
    "    description=\"An agent that can answer questions about travel data by executing SQL queries and visualizing the results.\",\n",
    "    instruction=\"\"\"You are a helpful assistant that can answer questions about travel data.\n",
    "    You have access to a tool called `execute_sql_query` which can execute SQL queries against a SQLite database.\n",
    "\n",
    "    The database contains the following tables:\n",
    "\n",
    "    - `flights`: Contains flight information.\n",
    "        - Columns: `flight_id` (INTEGER), `origin` (TEXT), `destination` (TEXT), `departure_time` (TEXT), `arrival_time` (TEXT), `price` (REAL)\n",
    "\n",
    "    - `hotels`: Contains hotel details.\n",
    "        - Columns: `hotel_id` (INTEGER), `name` (TEXT), `location` (TEXT), `price_per_night` (REAL), `rating` (REAL)\n",
    "\n",
    "    - `bookings`: Records customer bookings for flights and hotels.\n",
    "        - Columns: `booking_id` (INTEGER), `customer_name` (TEXT), `type` (TEXT, 'flight' or 'hotel'), `item_id` (INTEGER), `booking_date` (TEXT)\n",
    "\n",
    "    When a user asks a question about the data, translate the question into a SQL query using the available tables and columns, execute the query using the `execute_sql_query` tool, and return the result to the user.\n",
    "    If the query result is suitable for visualization (e.g., a small table with a few columns), generate a visualization to accompany the text response.\n",
    "    If you cannot answer the question using a SQL query based on the available tables, respond that you can only answer questions about the travel data.\n",
    "    \"\"\",\n",
    "    generate_content_config=types.GenerateContentConfig(temperature=0.2),\n",
    "    tools=[execute_sql_query_with_df],\n",
    ")"
   ]
  },
  {
   "cell_type": "code",
   "execution_count": null,
   "metadata": {
    "colab": {
     "base_uri": "https://localhost:8080/",
     "height": 801
    },
    "id": "74c3d87f",
    "outputId": "ba40ed72-3618-4870-f119-aac33159c5b2"
   },
   "outputs": [
    {
     "name": "stdout",
     "output_type": "stream",
     "text": [
      "\n",
      "--- Function Call ---\n",
      "Agent: nl2sql_agent\n",
      "Call Function: execute_sql_query_with_df\n",
      "Argument: {'query': 'SELECT origin, AVG(price) FROM flights GROUP BY origin'}\n",
      "---------------------\n",
      "\n"
     ]
    },
    {
     "data": {
      "image/png": "[encoded data removed]",
      "text/plain": [
       "<Figure size 640x480 with 1 Axes>"
      ]
     },
     "metadata": {},
     "output_type": "display_data"
    },
    {
     "name": "stdout",
     "output_type": "stream",
     "text": [
      "\n",
      "--- Function Response ---\n",
      "Agent: nl2sql_agent\n",
      "Function Name: execute_sql_query_with_df\n",
      "Function Results: {'result': '  origin  AVG(price)\\n0    JFK       300.0\\n1    LAX       360.0\\n2    MIA       230.0'}\n",
      "-------------------------\n",
      "\n",
      "\n",
      "==> Query: Find the average price of flights for each origin city.\n",
      "==> Response: The average price of flights from JFK is $300.0, from LAX is $360.0, and from MIA is $230.0.\n"
     ]
    }
   ],
   "source": [
    "query = \"Find the average price of flights for each origin city.\"\n",
    "response, executed_sql_query = await send_query_to_agent(nl2sql_agent_viz, query)\n",
    "\n",
    "print(f\"\\n==> Query: {query}\")\n",
    "print(f\"==> Response: {response}\")"
   ]
  }
 ],
 "metadata": {
  "colab": {
   "collapsed_sections": [
    "plFZ-vMKNCO5"
   ],
   "provenance": [],
   "toc_visible": true
  },
  "environment": {
   "kernel": "conda-base-py312",
   "name": "workbench-notebooks.m128",
   "type": "gcloud",
   "uri": "us-docker.pkg.dev/deeplearning-platform-release/gcr.io/workbench-notebooks:m128"
  },
  "kernelspec": {
   "display_name": "py312 (Local)",
   "language": "python",
   "name": "conda-base-py312"
  },
  "language_info": {
   "codemirror_mode": {
    "name": "ipython",
    "version": 3
   },
   "file_extension": ".py",
   "mimetype": "text/x-python",
   "name": "python",
   "nbconvert_exporter": "python",
   "pygments_lexer": "ipython3",
   "version": "3.10.16"
  }
 },
 "nbformat": 4,
 "nbformat_minor": 4
}
